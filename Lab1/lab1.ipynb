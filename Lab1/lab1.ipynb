{
 "cells": [
  {
   "cell_type": "markdown",
   "metadata": {},
   "source": [
    "# Lab 1"
   ]
  },
  {
   "cell_type": "code",
   "execution_count": 6,
   "metadata": {},
   "outputs": [
    {
     "name": "stderr",
     "output_type": "stream",
     "text": [
      "\u001b[32m2024-10-18 15:38:23.159\u001b[0m | \u001b[1mINFO    \u001b[0m | \u001b[36mmable.observers\u001b[0m:\u001b[36mrun\u001b[0m:\u001b[36m108\u001b[0m - \u001b[1m---Pre Run Start---\u001b[0m\n",
      "\u001b[32m2024-10-18 15:38:23.160\u001b[0m | \u001b[1mINFO    \u001b[0m | \u001b[36mmable.observers\u001b[0m:\u001b[36mnotify\u001b[0m:\u001b[36m19\u001b[0m - \u001b[1mEvent(VesselLocationInformationEvent): time -1 [-], duration: 0 [~0 day(s) 0 hour(s)], info: HMS Terror in Aberdeen-f8ea5ddd09c3.\u001b[0m\n",
      "\u001b[32m2024-10-18 15:38:23.162\u001b[0m | \u001b[1mINFO    \u001b[0m | \u001b[36mmable.observers\u001b[0m:\u001b[36mrun\u001b[0m:\u001b[36m108\u001b[0m - \u001b[1m--Run Start (Pre Run Finished)---\u001b[0m\n",
      "\u001b[32m2024-10-18 15:38:23.166\u001b[0m | \u001b[1mINFO    \u001b[0m | \u001b[36mmable.observers\u001b[0m:\u001b[36mnotify\u001b[0m:\u001b[36m19\u001b[0m - \u001b[1mEvent(CargoAnnouncementEvent): time 0[~0 day(s) 0 hour(s)], info: #Trades: 1. For time ~0 day(s) 1 hour(s).\u001b[0m\n",
      "\u001b[32m2024-10-18 15:38:23.169\u001b[0m | \u001b[1mINFO    \u001b[0m | \u001b[36mmable.observers\u001b[0m:\u001b[36mnotify\u001b[0m:\u001b[36m19\u001b[0m - \u001b[1mEvent(AuctionCargoEvent): time 1[~0 day(s) 1 hour(s)], info: #Trades: 1.\u001b[0m\n",
      "\u001b[32m2024-10-18 15:38:23.170\u001b[0m | \u001b[1mINFO    \u001b[0m | \u001b[36mmable.observers\u001b[0m:\u001b[36mnotify\u001b[0m:\u001b[36m19\u001b[0m - \u001b[1mEvent(TravelEvent): time 7.72 [~0 day(s) 7.7 hour(s)], duration: 6.72 [~0 day(s) 6.7 hour(s)], info: Port<Lyness-b0a6e09ce2a9 (58.85314, -3.12991)> travel (Vessel [name: HMS Terror]: Port<Aberdeen-f8ea5ddd09c3 (57.14151, -2.07729)>->Port<Lyness-b0a6e09ce2a9 (58.85314, -3.12991)>).\u001b[0m\n",
      "\u001b[32m2024-10-18 15:38:23.170\u001b[0m | \u001b[1mINFO    \u001b[0m | \u001b[36mmable.observers\u001b[0m:\u001b[36mnotify\u001b[0m:\u001b[36m24\u001b[0m - \u001b[1mHMS Terror Fuel consumption<Travel>: 26.805 t, CO2: 84.703 t, Cost: 11526.09 $\u001b[0m\n",
      "\u001b[32m2024-10-18 15:38:23.171\u001b[0m | \u001b[1mINFO    \u001b[0m | \u001b[36mmable.observers\u001b[0m:\u001b[36mnotify\u001b[0m:\u001b[36m19\u001b[0m - \u001b[1mEvent(IdleEvent): time 24 [~1 day(s) 0 hour(s)], duration: 16.28 [~0 day(s) 16.3 hour(s)], info: Port<Lyness-b0a6e09ce2a9 (58.85314, -3.12991)> idling (Vessel [name: HMS Terror]).\u001b[0m\n",
      "\u001b[32m2024-10-18 15:38:23.173\u001b[0m | \u001b[1mINFO    \u001b[0m | \u001b[36mmable.observers\u001b[0m:\u001b[36mnotify\u001b[0m:\u001b[36m24\u001b[0m - \u001b[1mHMS Terror Fuel consumption<Idle>: 4.837 t, CO2: 15.283 t, Cost: 2079.7 $\u001b[0m\n",
      "\u001b[32m2024-10-18 15:38:23.175\u001b[0m | \u001b[1mINFO    \u001b[0m | \u001b[36mmable.observers\u001b[0m:\u001b[36mnotify\u001b[0m:\u001b[36m19\u001b[0m - \u001b[1mEvent(TimeWindowArrivalEvent): time 24 [~1 day(s) 0 hour(s)], duration: 0 [~0 day(s) 0 hour(s)], info: Port<Lyness-b0a6e09ce2a9 (58.85314, -3.12991)> pick up (Vessel [name: HMS Terror], Trade [Oil, 94118.25276270826]: Port<Lyness-b0a6e09ce2a9 (58.85314, -3.12991)>->Port<Castellon-08c2845d53fd (39.96503, 0.02471)>).\u001b[0m\n",
      "\u001b[32m2024-10-18 15:38:23.176\u001b[0m | \u001b[1mINFO    \u001b[0m | \u001b[36mmable.observers\u001b[0m:\u001b[36mnotify\u001b[0m:\u001b[36m19\u001b[0m - \u001b[1mEvent(CargoTransferEvent): time 42.824 [~1 day(s) 18.8 hour(s)], duration: 18.824 [~0 day(s) 18.8 hour(s)], info: Port<Lyness-b0a6e09ce2a9 (58.85314, -3.12991)> pick up (Vessel [name: HMS Terror], Trade [Oil, 94118.25276270826]: Port<Lyness-b0a6e09ce2a9 (58.85314, -3.12991)>->Port<Castellon-08c2845d53fd (39.96503, 0.02471)>).\u001b[0m\n",
      "\u001b[32m2024-10-18 15:38:23.177\u001b[0m | \u001b[1mINFO    \u001b[0m | \u001b[36mmable.observers\u001b[0m:\u001b[36mnotify\u001b[0m:\u001b[36m24\u001b[0m - \u001b[1mHMS Terror Fuel consumption<CargoTransfer>: 12.18 t, CO2: 38.49 t, Cost: 5237.6 $\u001b[0m\n",
      "\u001b[32m2024-10-18 15:38:23.178\u001b[0m | \u001b[1mINFO    \u001b[0m | \u001b[36mmable.observers\u001b[0m:\u001b[36mnotify\u001b[0m:\u001b[36m19\u001b[0m - \u001b[1mEvent(TravelEvent): time 186.287 [~7 day(s) 18.3 hour(s)], duration: 143.463 [~5 day(s) 23.5 hour(s)], info: Port<Castellon-08c2845d53fd (39.96503, 0.02471)> travel (Vessel [name: HMS Terror]: Port<Lyness-b0a6e09ce2a9 (58.85314, -3.12991)>->Port<Castellon-08c2845d53fd (39.96503, 0.02471)>).\u001b[0m\n",
      "\u001b[32m2024-10-18 15:38:23.179\u001b[0m | \u001b[1mINFO    \u001b[0m | \u001b[36mmable.observers\u001b[0m:\u001b[36mnotify\u001b[0m:\u001b[36m24\u001b[0m - \u001b[1mHMS Terror Fuel consumption<Travel>: 1070.168 t, CO2: 3381.73 t, Cost: 460172.14 $\u001b[0m\n",
      "\u001b[32m2024-10-18 15:38:23.180\u001b[0m | \u001b[1mINFO    \u001b[0m | \u001b[36mmable.observers\u001b[0m:\u001b[36mnotify\u001b[0m:\u001b[36m19\u001b[0m - \u001b[1mEvent(TimeWindowArrivalEvent): time 186.287 [~7 day(s) 18.3 hour(s)], duration: 0.0 [~0 day(s) 0.0 hour(s)], info: Port<Castellon-08c2845d53fd (39.96503, 0.02471)> drop off (Vessel [name: HMS Terror], Trade [Oil, 94118.25276270826]: Port<Lyness-b0a6e09ce2a9 (58.85314, -3.12991)>->Port<Castellon-08c2845d53fd (39.96503, 0.02471)>).\u001b[0m\n",
      "\u001b[32m2024-10-18 15:38:23.181\u001b[0m | \u001b[1mINFO    \u001b[0m | \u001b[36mmable.observers\u001b[0m:\u001b[36mnotify\u001b[0m:\u001b[36m19\u001b[0m - \u001b[1mEvent(CargoTransferEvent): time 205.11 [~8 day(s) 13.1 hour(s)], duration: 18.824 [~0 day(s) 18.8 hour(s)], info: Port<Castellon-08c2845d53fd (39.96503, 0.02471)> drop off (Vessel [name: HMS Terror], Trade [Oil, 94118.25276270826]: Port<Lyness-b0a6e09ce2a9 (58.85314, -3.12991)>->Port<Castellon-08c2845d53fd (39.96503, 0.02471)>).\u001b[0m\n",
      "\u001b[32m2024-10-18 15:38:23.183\u001b[0m | \u001b[1mINFO    \u001b[0m | \u001b[36mmable.observers\u001b[0m:\u001b[36mnotify\u001b[0m:\u001b[36m24\u001b[0m - \u001b[1mHMS Terror Fuel consumption<CargoTransfer>: 105.389 t, CO2: 333.029 t, Cost: 45317.23 $\u001b[0m\n",
      "\u001b[32m2024-10-18 15:38:23.185\u001b[0m | \u001b[1mINFO    \u001b[0m | \u001b[36mmable.observers\u001b[0m:\u001b[36mrun\u001b[0m:\u001b[36m108\u001b[0m - \u001b[1m--Run Finished---\u001b[0m\n"
     ]
    }
   ],
   "source": [
    "from mable.cargo_bidding import TradingCompany\n",
    "from mable.examples import environment, fleets\n",
    "class MyCompany(TradingCompany):\n",
    "    pass\n",
    "\n",
    "if __name__ == '__main__':\n",
    "    specifications_builder = environment.get_specification_builder(environment_files_path=\"..\")\n",
    "    fleet = fleets.example_fleet_1()\n",
    "    specifications_builder.add_company(MyCompany.Data(MyCompany, fleet,\"My Shipping Corp Ltd.\"))\n",
    "    sim = environment.generate_simulation(specifications_builder)\n",
    "    sim.run()"
   ]
  },
  {
   "cell_type": "code",
   "execution_count": 7,
   "metadata": {},
   "outputs": [
    {
     "name": "stdout",
     "output_type": "stream",
     "text": [
      "Overview for .\\metrics_competition_1745141884560.json.\n",
      "Company My Shipping Corp Ltd.\n",
      "+---------+------------+\n",
      "|   Name  |      Value |\n",
      "+---------+------------+\n",
      "|   Cost  | 524332.766 |\n",
      "| Penalty |          0 |\n",
      "| Revenue |        inf |\n",
      "+---------+------------+\n",
      "|  Income |        inf |\n",
      "+---------+------------+\n"
     ]
    }
   ],
   "source": [
    "! mable overview .\\metrics_competition_1745141884560.json"
   ]
  }
 ],
 "metadata": {
  "kernelspec": {
   "display_name": "mable",
   "language": "python",
   "name": "python3"
  },
  "language_info": {
   "codemirror_mode": {
    "name": "ipython",
    "version": 3
   },
   "file_extension": ".py",
   "mimetype": "text/x-python",
   "name": "python",
   "nbconvert_exporter": "python",
   "pygments_lexer": "ipython3",
   "version": "3.12.7"
  }
 },
 "nbformat": 4,
 "nbformat_minor": 2
}
