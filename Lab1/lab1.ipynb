{
 "cells": [
  {
   "cell_type": "markdown",
   "metadata": {},
   "source": [
    "# Lab 1"
   ]
  },
  {
   "cell_type": "code",
   "execution_count": null,
   "metadata": {},
   "outputs": [],
   "source": [
    "from mable.cargo_bidding import TradingCompany\n",
    "from mable.examples import environment, fleets\n",
    "class MyCompany(TradingCompany):\n",
    "    pass\n",
    "\n",
    "if __name__ == '__main__':\n",
    "    specifications_builder = environment.get_specification_builder(environment_files_path=\".\")\n",
    "    fleet = fleets.example_fleet_1()\n",
    "    specifications_builder.add_company(MyCompany.Data(MyCompany, fleet,\"My Shipping Corp Ltd.\"))\n",
    "    sim = environment.generate_simulation(specifications_builder)\n",
    "    sim.run()"
   ]
  },
  {
   "cell_type": "code",
   "execution_count": null,
   "metadata": {},
   "outputs": [],
   "source": [
    "! mable overview .\\metrics_competition_1745141884560.json"
   ]
  }
 ],
 "metadata": {
  "kernelspec": {
   "display_name": "mable",
   "language": "python",
   "name": "python3"
  },
  "language_info": {
   "codemirror_mode": {
    "name": "ipython",
    "version": 3
   },
   "file_extension": ".py",
   "mimetype": "text/x-python",
   "name": "python",
   "nbconvert_exporter": "python",
   "pygments_lexer": "ipython3",
   "version": "3.12.7"
  }
 },
 "nbformat": 4,
 "nbformat_minor": 2
}
