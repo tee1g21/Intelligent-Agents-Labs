{
 "cells": [
  {
   "cell_type": "markdown",
   "metadata": {},
   "source": [
    "# Lab 1"
   ]
  },
  {
   "cell_type": "code",
   "execution_count": 1,
   "metadata": {},
   "outputs": [
    {
     "name": "stderr",
     "output_type": "stream",
     "text": [
      "\u001b[32m2024-11-22 14:51:40.998\u001b[0m | \u001b[1mINFO    \u001b[0m | \u001b[36mmable.observers\u001b[0m:\u001b[36mrun\u001b[0m:\u001b[36m132\u001b[0m - \u001b[1m---Pre Run Start---\u001b[0m\n",
      "\u001b[32m2024-11-22 14:51:40.999\u001b[0m | \u001b[1mINFO    \u001b[0m | \u001b[36mmable.observers\u001b[0m:\u001b[36mnotify\u001b[0m:\u001b[36m19\u001b[0m - \u001b[1mEvent(VesselLocationInformationEvent): time -1 [-], duration: 0 [~0 day(s) 0 hour(s)], info: HMS Terror in Aberdeen-f8ea5ddd09c3.\u001b[0m\n",
      "\u001b[32m2024-11-22 14:51:41.000\u001b[0m | \u001b[1mINFO    \u001b[0m | \u001b[36mmable.observers\u001b[0m:\u001b[36mrun\u001b[0m:\u001b[36m132\u001b[0m - \u001b[1m--Run Start (Pre Run Finished)---\u001b[0m\n",
      "\u001b[32m2024-11-22 14:51:41.002\u001b[0m | \u001b[1mINFO    \u001b[0m | \u001b[36mmable.shipping_market\u001b[0m:\u001b[36mget_trades\u001b[0m:\u001b[36m87\u001b[0m - \u001b[1m1 trades of a total of 1 trades realised (time: 0).\u001b[0m\n"
     ]
    },
    {
     "ename": "RuntimeError",
     "evalue": "asyncio.run() cannot be called from a running event loop",
     "output_type": "error",
     "traceback": [
      "\u001b[1;31m---------------------------------------------------------------------------\u001b[0m",
      "\u001b[1;31mRuntimeError\u001b[0m                              Traceback (most recent call last)",
      "Cell \u001b[1;32mIn[1], line 11\u001b[0m\n\u001b[0;32m      9\u001b[0m specifications_builder\u001b[38;5;241m.\u001b[39madd_company(MyCompany\u001b[38;5;241m.\u001b[39mData(MyCompany, fleet,\u001b[38;5;124m\"\u001b[39m\u001b[38;5;124mMy Shipping Corp Ltd.\u001b[39m\u001b[38;5;124m\"\u001b[39m))\n\u001b[0;32m     10\u001b[0m sim \u001b[38;5;241m=\u001b[39m environment\u001b[38;5;241m.\u001b[39mgenerate_simulation(specifications_builder)\n\u001b[1;32m---> 11\u001b[0m \u001b[43msim\u001b[49m\u001b[38;5;241;43m.\u001b[39;49m\u001b[43mrun\u001b[49m\u001b[43m(\u001b[49m\u001b[43m)\u001b[49m\n",
      "File \u001b[1;32mc:\\Users\\Tom\\anaconda3\\envs\\mable\\Lib\\site-packages\\mable\\engine.py:155\u001b[0m, in \u001b[0;36mSimulationEngine.run\u001b[1;34m(self)\u001b[0m\n\u001b[0;32m    153\u001b[0m \u001b[38;5;28mself\u001b[39m\u001b[38;5;241m.\u001b[39m_pre_run()\n\u001b[0;32m    154\u001b[0m \u001b[38;5;28;01mwhile\u001b[39;00m \u001b[38;5;28mself\u001b[39m\u001b[38;5;241m.\u001b[39m_world\u001b[38;5;241m.\u001b[39mdo_events_exists():\n\u001b[1;32m--> 155\u001b[0m     next_event, data \u001b[38;5;241m=\u001b[39m \u001b[38;5;28;43mself\u001b[39;49m\u001b[38;5;241;43m.\u001b[39;49m\u001b[43m_process_next_event\u001b[49m\u001b[43m(\u001b[49m\u001b[43m)\u001b[49m\n\u001b[0;32m    156\u001b[0m     \u001b[38;5;28mself\u001b[39m\u001b[38;5;241m.\u001b[39mnotify_event_observer(next_event, data)\n\u001b[0;32m    157\u001b[0m \u001b[38;5;28mself\u001b[39m\u001b[38;5;241m.\u001b[39m_post_run()\n",
      "File \u001b[1;32mc:\\Users\\Tom\\anaconda3\\envs\\mable\\Lib\\site-packages\\mable\\engine.py:143\u001b[0m, in \u001b[0;36mSimulationEngine._process_next_event\u001b[1;34m(self)\u001b[0m\n\u001b[0;32m    141\u001b[0m     next_event \u001b[38;5;241m=\u001b[39m \u001b[38;5;28mself\u001b[39m\u001b[38;5;241m.\u001b[39m_world\u001b[38;5;241m.\u001b[39mget_next_event()\n\u001b[0;32m    142\u001b[0m     data \u001b[38;5;241m=\u001b[39m EventExecutionData()\n\u001b[1;32m--> 143\u001b[0m     event_action_result \u001b[38;5;241m=\u001b[39m \u001b[43mnext_event\u001b[49m\u001b[38;5;241;43m.\u001b[39;49m\u001b[43mevent_action\u001b[49m\u001b[43m(\u001b[49m\u001b[38;5;28;43mself\u001b[39;49m\u001b[43m)\u001b[49m\n\u001b[0;32m    144\u001b[0m     data\u001b[38;5;241m.\u001b[39maction_data \u001b[38;5;241m=\u001b[39m event_action_result\n\u001b[0;32m    145\u001b[0m \u001b[38;5;28;01mreturn\u001b[39;00m next_event, data\n",
      "File \u001b[1;32mc:\\Users\\Tom\\anaconda3\\envs\\mable\\Lib\\site-packages\\mable\\event_management.py:121\u001b[0m, in \u001b[0;36mCargoAnnouncementEvent.event_action\u001b[1;34m(self, engine)\u001b[0m\n\u001b[0;32m    113\u001b[0m \u001b[38;5;250m\u001b[39m\u001b[38;5;124;03m\"\"\"\u001b[39;00m\n\u001b[0;32m    114\u001b[0m \u001b[38;5;124;03mAnnounces the cargoes becoming available at a later time.\u001b[39;00m\n\u001b[0;32m    115\u001b[0m \n\u001b[1;32m   (...)\u001b[0m\n\u001b[0;32m    118\u001b[0m \u001b[38;5;124;03m:type engine: SimulationEngine\u001b[39;00m\n\u001b[0;32m    119\u001b[0m \u001b[38;5;124;03m\"\"\"\u001b[39;00m\n\u001b[0;32m    120\u001b[0m all_trades \u001b[38;5;241m=\u001b[39m engine\u001b[38;5;241m.\u001b[39mshipping\u001b[38;5;241m.\u001b[39mget_trades(\u001b[38;5;28mself\u001b[39m\u001b[38;5;241m.\u001b[39m_cargo_available_time)\n\u001b[1;32m--> 121\u001b[0m \u001b[43mengine\u001b[49m\u001b[38;5;241;43m.\u001b[39;49m\u001b[43mmarket\u001b[49m\u001b[38;5;241;43m.\u001b[39;49m\u001b[43minform_future_trades\u001b[49m\u001b[43m(\u001b[49m\u001b[43mall_trades\u001b[49m\u001b[43m,\u001b[49m\u001b[43m \u001b[49m\u001b[38;5;28;43mself\u001b[39;49m\u001b[38;5;241;43m.\u001b[39;49m\u001b[43m_cargo_available_time\u001b[49m\u001b[43m,\u001b[49m\u001b[43m \u001b[49m\u001b[43mengine\u001b[49m\u001b[38;5;241;43m.\u001b[39;49m\u001b[43mshipping_companies\u001b[49m\u001b[43m)\u001b[49m\n\u001b[0;32m    122\u001b[0m \u001b[38;5;28mself\u001b[39m\u001b[38;5;241m.\u001b[39minfo \u001b[38;5;241m=\u001b[39m \u001b[38;5;124mf\u001b[39m\u001b[38;5;124m\"\u001b[39m\u001b[38;5;124m#Trades: \u001b[39m\u001b[38;5;132;01m{\u001b[39;00m\u001b[38;5;28mlen\u001b[39m(all_trades)\u001b[38;5;132;01m}\u001b[39;00m\u001b[38;5;124m. For time \u001b[39m\u001b[38;5;132;01m{\u001b[39;00m\u001b[38;5;28mself\u001b[39m\u001b[38;5;241m.\u001b[39mformat_time(\u001b[38;5;28mself\u001b[39m\u001b[38;5;241m.\u001b[39m_cargo_available_time)\u001b[38;5;132;01m}\u001b[39;00m\u001b[38;5;124m\"\u001b[39m\n\u001b[0;32m    123\u001b[0m engine\u001b[38;5;241m.\u001b[39mworld\u001b[38;5;241m.\u001b[39mevent_queue\u001b[38;5;241m.\u001b[39mput(engine\u001b[38;5;241m.\u001b[39mclass_factory\u001b[38;5;241m.\u001b[39mgenerate_event_cargo(\u001b[38;5;28mself\u001b[39m\u001b[38;5;241m.\u001b[39m_cargo_available_time))\n",
      "File \u001b[1;32mc:\\Users\\Tom\\anaconda3\\envs\\mable\\Lib\\site-packages\\mable\\shipping_market.py:414\u001b[0m, in \u001b[0;36mAuctionMarket.inform_future_trades\u001b[1;34m(trades, time, shipping_companies, timeout)\u001b[0m\n\u001b[0;32m    402\u001b[0m \u001b[38;5;250m\u001b[39m\u001b[38;5;124;03m\"\"\"\u001b[39;00m\n\u001b[0;32m    403\u001b[0m \u001b[38;5;124;03mInforms the shipping companies of upcoming trades.\u001b[39;00m\n\u001b[0;32m    404\u001b[0m \n\u001b[1;32m   (...)\u001b[0m\n\u001b[0;32m    411\u001b[0m \u001b[38;5;124;03m:type timeout: int\u001b[39;00m\n\u001b[0;32m    412\u001b[0m \u001b[38;5;124;03m\"\"\"\u001b[39;00m\n\u001b[0;32m    413\u001b[0m \u001b[38;5;28;01mfor\u001b[39;00m current_company \u001b[38;5;129;01min\u001b[39;00m shipping_companies:\n\u001b[1;32m--> 414\u001b[0m     \u001b[43masyncio\u001b[49m\u001b[38;5;241;43m.\u001b[39;49m\u001b[43mrun\u001b[49m\u001b[43m(\u001b[49m\u001b[43mAuctionMarket\u001b[49m\u001b[38;5;241;43m.\u001b[39;49m\u001b[43m_company_pre_inform_timeout\u001b[49m\u001b[43m(\u001b[49m\n\u001b[0;32m    415\u001b[0m \u001b[43m        \u001b[49m\u001b[43mcurrent_company\u001b[49m\u001b[43m,\u001b[49m\u001b[43m \u001b[49m\u001b[43mtrades\u001b[49m\u001b[43m,\u001b[49m\u001b[43m \u001b[49m\u001b[43mtime\u001b[49m\u001b[43m,\u001b[49m\u001b[43m \u001b[49m\u001b[43mtimeout\u001b[49m\u001b[38;5;241;43m=\u001b[39;49m\u001b[43mtimeout\u001b[49m\u001b[43m)\u001b[49m\u001b[43m)\u001b[49m\n",
      "File \u001b[1;32mc:\\Users\\Tom\\anaconda3\\envs\\mable\\Lib\\asyncio\\runners.py:190\u001b[0m, in \u001b[0;36mrun\u001b[1;34m(main, debug, loop_factory)\u001b[0m\n\u001b[0;32m    161\u001b[0m \u001b[38;5;250m\u001b[39m\u001b[38;5;124;03m\"\"\"Execute the coroutine and return the result.\u001b[39;00m\n\u001b[0;32m    162\u001b[0m \n\u001b[0;32m    163\u001b[0m \u001b[38;5;124;03mThis function runs the passed coroutine, taking care of\u001b[39;00m\n\u001b[1;32m   (...)\u001b[0m\n\u001b[0;32m    186\u001b[0m \u001b[38;5;124;03m    asyncio.run(main())\u001b[39;00m\n\u001b[0;32m    187\u001b[0m \u001b[38;5;124;03m\"\"\"\u001b[39;00m\n\u001b[0;32m    188\u001b[0m \u001b[38;5;28;01mif\u001b[39;00m events\u001b[38;5;241m.\u001b[39m_get_running_loop() \u001b[38;5;129;01mis\u001b[39;00m \u001b[38;5;129;01mnot\u001b[39;00m \u001b[38;5;28;01mNone\u001b[39;00m:\n\u001b[0;32m    189\u001b[0m     \u001b[38;5;66;03m# fail fast with short traceback\u001b[39;00m\n\u001b[1;32m--> 190\u001b[0m     \u001b[38;5;28;01mraise\u001b[39;00m \u001b[38;5;167;01mRuntimeError\u001b[39;00m(\n\u001b[0;32m    191\u001b[0m         \u001b[38;5;124m\"\u001b[39m\u001b[38;5;124masyncio.run() cannot be called from a running event loop\u001b[39m\u001b[38;5;124m\"\u001b[39m)\n\u001b[0;32m    193\u001b[0m \u001b[38;5;28;01mwith\u001b[39;00m Runner(debug\u001b[38;5;241m=\u001b[39mdebug, loop_factory\u001b[38;5;241m=\u001b[39mloop_factory) \u001b[38;5;28;01mas\u001b[39;00m runner:\n\u001b[0;32m    194\u001b[0m     \u001b[38;5;28;01mreturn\u001b[39;00m runner\u001b[38;5;241m.\u001b[39mrun(main)\n",
      "\u001b[1;31mRuntimeError\u001b[0m: asyncio.run() cannot be called from a running event loop"
     ]
    }
   ],
   "source": [
    "from mable.cargo_bidding import TradingCompany\n",
    "from mable.examples import environment, fleets\n",
    "class MyCompany(TradingCompany):\n",
    "    pass\n",
    "\n",
    "if __name__ == '__main__':\n",
    "    specifications_builder = environment.get_specification_builder(environment_files_path=\".\")\n",
    "    fleet = fleets.example_fleet_1()\n",
    "    specifications_builder.add_company(MyCompany.Data(MyCompany, fleet,\"My Shipping Corp Ltd.\"))\n",
    "    sim = environment.generate_simulation(specifications_builder)\n",
    "    sim.run()"
   ]
  },
  {
   "cell_type": "code",
   "execution_count": null,
   "metadata": {},
   "outputs": [
    {
     "name": "stdout",
     "output_type": "stream",
     "text": [
      "Overview for .\\metrics_competition_1745141884560.json.\n",
      "Company My Shipping Corp Ltd.\n",
      "+---------+------------+\n",
      "|   Name  |      Value |\n",
      "+---------+------------+\n",
      "|   Cost  | 524332.766 |\n",
      "| Penalty |          0 |\n",
      "| Revenue |        inf |\n",
      "+---------+------------+\n",
      "|  Income |        inf |\n",
      "+---------+------------+\n"
     ]
    }
   ],
   "source": [
    "! mable overview .\\metrics_competition_1745141884560.json"
   ]
  }
 ],
 "metadata": {
  "kernelspec": {
   "display_name": "mable",
   "language": "python",
   "name": "python3"
  },
  "language_info": {
   "codemirror_mode": {
    "name": "ipython",
    "version": 3
   },
   "file_extension": ".py",
   "mimetype": "text/x-python",
   "name": "python",
   "nbconvert_exporter": "python",
   "pygments_lexer": "ipython3",
   "version": "3.12.7"
  }
 },
 "nbformat": 4,
 "nbformat_minor": 2
}
