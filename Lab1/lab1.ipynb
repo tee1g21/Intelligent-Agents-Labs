{
 "cells": [
  {
   "cell_type": "markdown",
   "metadata": {},
   "source": [
    "# Lab 1"
   ]
  },
  {
   "cell_type": "code",
   "execution_count": 1,
   "metadata": {},
   "outputs": [
    {
     "name": "stderr",
     "output_type": "stream",
     "text": [
      "\u001b[32m2024-11-09 00:50:31.548\u001b[0m | \u001b[1mINFO    \u001b[0m | \u001b[36mmable.observers\u001b[0m:\u001b[36mrun\u001b[0m:\u001b[36m132\u001b[0m - \u001b[1m---Pre Run Start---\u001b[0m\n",
      "\u001b[32m2024-11-09 00:50:31.549\u001b[0m | \u001b[1mINFO    \u001b[0m | \u001b[36mmable.observers\u001b[0m:\u001b[36mnotify\u001b[0m:\u001b[36m19\u001b[0m - \u001b[1mEvent(VesselLocationInformationEvent): time -1 [-], duration: 0 [~0 day(s) 0 hour(s)], info: HMS Terror in Aberdeen-f8ea5ddd09c3.\u001b[0m\n",
      "\u001b[32m2024-11-09 00:50:31.549\u001b[0m | \u001b[1mINFO    \u001b[0m | \u001b[36mmable.observers\u001b[0m:\u001b[36mrun\u001b[0m:\u001b[36m132\u001b[0m - \u001b[1m--Run Start (Pre Run Finished)---\u001b[0m\n",
      "\u001b[32m2024-11-09 00:50:31.550\u001b[0m | \u001b[1mINFO    \u001b[0m | \u001b[36mmable.observers\u001b[0m:\u001b[36mnotify\u001b[0m:\u001b[36m19\u001b[0m - \u001b[1mEvent(CargoAnnouncementEvent): time 0.001[~0 day(s) 0.0 hour(s)], info: #Trades: 1. For time ~0 day(s) 0 hour(s).\u001b[0m\n",
      "\u001b[32m2024-11-09 00:50:31.553\u001b[0m | \u001b[1mINFO    \u001b[0m | \u001b[36mmable.observers\u001b[0m:\u001b[36mnotify\u001b[0m:\u001b[36m19\u001b[0m - \u001b[1mEvent(AuctionCargoEvent): time 0[~0 day(s) 0 hour(s)], info: Awarded 1/1 trades.\u001b[0m\n",
      "\u001b[32m2024-11-09 00:50:31.554\u001b[0m | \u001b[1mINFO    \u001b[0m | \u001b[36mmable.observers\u001b[0m:\u001b[36mnotify\u001b[0m:\u001b[36m19\u001b[0m - \u001b[1mEvent(TravelEvent): time 7.72 [~0 day(s) 7.7 hour(s)], duration: 0 [~0 day(s) 0 hour(s)], info: Port<Lyness-b0a6e09ce2a9 (58.85314, -3.12991)> travel (Vessel [name: HMS Terror]: Port<Aberdeen-f8ea5ddd09c3 (57.14151, -2.07729)>->Port<Lyness-b0a6e09ce2a9 (58.85314, -3.12991)>).\u001b[0m\n",
      "\u001b[32m2024-11-09 00:50:31.555\u001b[0m | \u001b[1mINFO    \u001b[0m | \u001b[36mmable.observers\u001b[0m:\u001b[36mnotify\u001b[0m:\u001b[36m19\u001b[0m - \u001b[1mEvent(CargoAnnouncementEvent): time 689.999[~28 day(s) 18.0 hour(s)], info: #Trades: 1. For time ~30 day(s) 0 hour(s).\u001b[0m\n",
      "\u001b[32m2024-11-09 00:50:31.556\u001b[0m | \u001b[1mINFO    \u001b[0m | \u001b[36mmable.observers\u001b[0m:\u001b[36mnotify\u001b[0m:\u001b[36m19\u001b[0m - \u001b[1mEvent(AuctionCargoEvent): time 720[~30 day(s) 0 hour(s)], info: Awarded 0/1 trades.\u001b[0m\n",
      "\u001b[32m2024-11-09 00:50:31.557\u001b[0m | \u001b[1mINFO    \u001b[0m | \u001b[36mmable.observers\u001b[0m:\u001b[36mnotify\u001b[0m:\u001b[36m19\u001b[0m - \u001b[1mEvent(CargoAnnouncementEvent): time 1409.999[~58 day(s) 18.0 hour(s)], info: #Trades: 1. For time ~60 day(s) 0 hour(s).\u001b[0m\n",
      "\u001b[32m2024-11-09 00:50:31.561\u001b[0m | \u001b[1mINFO    \u001b[0m | \u001b[36mmable.observers\u001b[0m:\u001b[36mnotify\u001b[0m:\u001b[36m19\u001b[0m - \u001b[1mEvent(AuctionCargoEvent): time 1440[~60 day(s) 0 hour(s)], info: Awarded 1/1 trades.\u001b[0m\n",
      "\u001b[32m2024-11-09 00:50:31.562\u001b[0m | \u001b[1mINFO    \u001b[0m | \u001b[36mmable.observers\u001b[0m:\u001b[36mnotify\u001b[0m:\u001b[36m19\u001b[0m - \u001b[1mEvent(IdleEvent): time 26136 [~1089 day(s) 0 hour(s)], duration: 24696 [~1029 day(s) 0 hour(s)], info: Port<Lyness-b0a6e09ce2a9 (58.85314, -3.12991)> idling (Vessel [name: HMS Terror]).\u001b[0m\n",
      "\u001b[32m2024-11-09 00:50:31.562\u001b[0m | \u001b[1mINFO    \u001b[0m | \u001b[36mmable.observers\u001b[0m:\u001b[36mnotify\u001b[0m:\u001b[36m24\u001b[0m - \u001b[1mHMS Terror Fuel consumption<Idle>: 7336.77 t, CO2: 23184.193 t, Cost: 3154811.1 $\u001b[0m\n",
      "\u001b[32m2024-11-09 00:50:31.563\u001b[0m | \u001b[1mINFO    \u001b[0m | \u001b[36mmable.observers\u001b[0m:\u001b[36mnotify\u001b[0m:\u001b[36m19\u001b[0m - \u001b[1mEvent(TimeWindowArrivalEvent): time 26136 [~1089 day(s) 0 hour(s)], duration: 0 [~0 day(s) 0 hour(s)], info: Port<Lyness-b0a6e09ce2a9 (58.85314, -3.12991)> pick up (Vessel [name: HMS Terror], Trade [Oil, 94118.25276270826]: Port<Lyness-b0a6e09ce2a9 (58.85314, -3.12991)>->Port<Castellon-08c2845d53fd (39.96503, 0.02471)>).\u001b[0m\n",
      "\u001b[32m2024-11-09 00:50:31.564\u001b[0m | \u001b[1mINFO    \u001b[0m | \u001b[36mmable.observers\u001b[0m:\u001b[36mnotify\u001b[0m:\u001b[36m19\u001b[0m - \u001b[1mEvent(CargoTransferEvent): time 26154.824 [~1089 day(s) 18.8 hour(s)], duration: 18.824 [~0 day(s) 18.8 hour(s)], info: Port<Lyness-b0a6e09ce2a9 (58.85314, -3.12991)> pick up (Vessel [name: HMS Terror], Trade [Oil, 94118.25276270826]: Port<Lyness-b0a6e09ce2a9 (58.85314, -3.12991)>->Port<Castellon-08c2845d53fd (39.96503, 0.02471)>).\u001b[0m\n",
      "\u001b[32m2024-11-09 00:50:31.565\u001b[0m | \u001b[1mINFO    \u001b[0m | \u001b[36mmable.observers\u001b[0m:\u001b[36mnotify\u001b[0m:\u001b[36m24\u001b[0m - \u001b[1mHMS Terror Fuel consumption<CargoTransfer>: 12.18 t, CO2: 38.49 t, Cost: 5237.6 $\u001b[0m\n",
      "\u001b[32m2024-11-09 00:50:31.566\u001b[0m | \u001b[1mINFO    \u001b[0m | \u001b[36mmable.observers\u001b[0m:\u001b[36mnotify\u001b[0m:\u001b[36m19\u001b[0m - \u001b[1mEvent(TravelEvent): time 26298.287 [~1095 day(s) 18.3 hour(s)], duration: 143.463 [~5 day(s) 23.5 hour(s)], info: Port<Castellon-08c2845d53fd (39.96503, 0.02471)> travel (Vessel [name: HMS Terror]: Port<Lyness-b0a6e09ce2a9 (58.85314, -3.12991)>->Port<Castellon-08c2845d53fd (39.96503, 0.02471)>).\u001b[0m\n",
      "\u001b[32m2024-11-09 00:50:31.567\u001b[0m | \u001b[1mINFO    \u001b[0m | \u001b[36mmable.observers\u001b[0m:\u001b[36mnotify\u001b[0m:\u001b[36m24\u001b[0m - \u001b[1mHMS Terror Fuel consumption<Travel>: 1070.168 t, CO2: 3381.73 t, Cost: 460172.14 $\u001b[0m\n",
      "\u001b[32m2024-11-09 00:50:31.568\u001b[0m | \u001b[1mINFO    \u001b[0m | \u001b[36mmable.observers\u001b[0m:\u001b[36mnotify\u001b[0m:\u001b[36m19\u001b[0m - \u001b[1mEvent(TimeWindowArrivalEvent): time 26298.287 [~1095 day(s) 18.3 hour(s)], duration: 0.0 [~0 day(s) 0.0 hour(s)], info: Port<Castellon-08c2845d53fd (39.96503, 0.02471)> drop off (Vessel [name: HMS Terror], Trade [Oil, 94118.25276270826]: Port<Lyness-b0a6e09ce2a9 (58.85314, -3.12991)>->Port<Castellon-08c2845d53fd (39.96503, 0.02471)>).\u001b[0m\n",
      "\u001b[32m2024-11-09 00:50:31.569\u001b[0m | \u001b[1mINFO    \u001b[0m | \u001b[36mmable.observers\u001b[0m:\u001b[36mnotify\u001b[0m:\u001b[36m19\u001b[0m - \u001b[1mEvent(CargoTransferEvent): time 26317.11 [~1096 day(s) 13.1 hour(s)], duration: 18.824 [~0 day(s) 18.8 hour(s)], info: Port<Castellon-08c2845d53fd (39.96503, 0.02471)> drop off (Vessel [name: HMS Terror], Trade [Oil, 94118.25276270826]: Port<Lyness-b0a6e09ce2a9 (58.85314, -3.12991)>->Port<Castellon-08c2845d53fd (39.96503, 0.02471)>).\u001b[0m\n",
      "\u001b[32m2024-11-09 00:50:31.570\u001b[0m | \u001b[1mINFO    \u001b[0m | \u001b[36mmable.observers\u001b[0m:\u001b[36mnotify\u001b[0m:\u001b[36m24\u001b[0m - \u001b[1mHMS Terror Fuel consumption<CargoTransfer>: 105.389 t, CO2: 333.029 t, Cost: 45317.23 $\u001b[0m\n",
      "\u001b[32m2024-11-09 00:50:31.570\u001b[0m | \u001b[1mINFO    \u001b[0m | \u001b[36mmable.observers\u001b[0m:\u001b[36mnotify\u001b[0m:\u001b[36m19\u001b[0m - \u001b[1mEvent(TravelEvent): time 26830.036 [~1117 day(s) 22.0 hour(s)], duration: 512.926 [~21 day(s) 8.9 hour(s)], info: Port<Jakarta-9cac7206c0ef (-6.05964, 106.88703)> travel (Vessel [name: HMS Terror]: Port<Castellon-08c2845d53fd (39.96503, 0.02471)>->Port<Jakarta-9cac7206c0ef (-6.05964, 106.88703)>).\u001b[0m\n",
      "\u001b[32m2024-11-09 00:50:31.571\u001b[0m | \u001b[1mINFO    \u001b[0m | \u001b[36mmable.observers\u001b[0m:\u001b[36mnotify\u001b[0m:\u001b[36m24\u001b[0m - \u001b[1mHMS Terror Fuel consumption<Travel>: 1481.541 t, CO2: 4681.67 t, Cost: 637062.74 $\u001b[0m\n",
      "\u001b[32m2024-11-09 00:50:31.572\u001b[0m | \u001b[1mINFO    \u001b[0m | \u001b[36mmable.observers\u001b[0m:\u001b[36mnotify\u001b[0m:\u001b[36m19\u001b[0m - \u001b[1mEvent(IdleEvent): time 30816 [~1284 day(s) 0 hour(s)], duration: 3985.964 [~166 day(s) 2.0 hour(s)], info: Port<Jakarta-9cac7206c0ef (-6.05964, 106.88703)> idling (Vessel [name: HMS Terror]).\u001b[0m\n",
      "\u001b[32m2024-11-09 00:50:31.573\u001b[0m | \u001b[1mINFO    \u001b[0m | \u001b[36mmable.observers\u001b[0m:\u001b[36mnotify\u001b[0m:\u001b[36m24\u001b[0m - \u001b[1mHMS Terror Fuel consumption<Idle>: 1184.164 t, CO2: 3741.957 t, Cost: 509190.31 $\u001b[0m\n",
      "\u001b[32m2024-11-09 00:50:31.574\u001b[0m | \u001b[1mINFO    \u001b[0m | \u001b[36mmable.observers\u001b[0m:\u001b[36mnotify\u001b[0m:\u001b[36m19\u001b[0m - \u001b[1mEvent(TimeWindowArrivalEvent): time 30816 [~1284 day(s) 0 hour(s)], duration: 0 [~0 day(s) 0 hour(s)], info: Port<Jakarta-9cac7206c0ef (-6.05964, 106.88703)> pick up (Vessel [name: HMS Terror], Trade [Oil, 76537.6656395492]: Port<Jakarta-9cac7206c0ef (-6.05964, 106.88703)>->Port<Kota Agung-84a3447ce3f6 (-5.50348, 104.62302)>).\u001b[0m\n",
      "\u001b[32m2024-11-09 00:50:31.575\u001b[0m | \u001b[1mINFO    \u001b[0m | \u001b[36mmable.observers\u001b[0m:\u001b[36mnotify\u001b[0m:\u001b[36m19\u001b[0m - \u001b[1mEvent(CargoTransferEvent): time 30831.308 [~1284 day(s) 15.3 hour(s)], duration: 15.308 [~0 day(s) 15.3 hour(s)], info: Port<Jakarta-9cac7206c0ef (-6.05964, 106.88703)> pick up (Vessel [name: HMS Terror], Trade [Oil, 76537.6656395492]: Port<Jakarta-9cac7206c0ef (-6.05964, 106.88703)>->Port<Kota Agung-84a3447ce3f6 (-5.50348, 104.62302)>).\u001b[0m\n",
      "\u001b[32m2024-11-09 00:50:31.575\u001b[0m | \u001b[1mINFO    \u001b[0m | \u001b[36mmable.observers\u001b[0m:\u001b[36mnotify\u001b[0m:\u001b[36m24\u001b[0m - \u001b[1mHMS Terror Fuel consumption<CargoTransfer>: 9.905 t, CO2: 31.301 t, Cost: 4259.26 $\u001b[0m\n",
      "\u001b[32m2024-11-09 00:50:31.576\u001b[0m | \u001b[1mINFO    \u001b[0m | \u001b[36mmable.observers\u001b[0m:\u001b[36mnotify\u001b[0m:\u001b[36m19\u001b[0m - \u001b[1mEvent(TravelEvent): time 30841.258 [~1285 day(s) 1.3 hour(s)], duration: 9.95 [~0 day(s) 10.0 hour(s)], info: Port<Kota Agung-84a3447ce3f6 (-5.50348, 104.62302)> travel (Vessel [name: HMS Terror]: Port<Jakarta-9cac7206c0ef (-6.05964, 106.88703)>->Port<Kota Agung-84a3447ce3f6 (-5.50348, 104.62302)>).\u001b[0m\n",
      "\u001b[32m2024-11-09 00:50:31.577\u001b[0m | \u001b[1mINFO    \u001b[0m | \u001b[36mmable.observers\u001b[0m:\u001b[36mnotify\u001b[0m:\u001b[36m24\u001b[0m - \u001b[1mHMS Terror Fuel consumption<Travel>: 74.222 t, CO2: 234.543 t, Cost: 31915.67 $\u001b[0m\n",
      "\u001b[32m2024-11-09 00:50:31.577\u001b[0m | \u001b[1mINFO    \u001b[0m | \u001b[36mmable.observers\u001b[0m:\u001b[36mnotify\u001b[0m:\u001b[36m19\u001b[0m - \u001b[1mEvent(IdleEvent): time 30984 [~1291 day(s) 0 hour(s)], duration: 142.742 [~5 day(s) 22.7 hour(s)], info: Port<Kota Agung-84a3447ce3f6 (-5.50348, 104.62302)> idling (Vessel [name: HMS Terror]).\u001b[0m\n",
      "\u001b[32m2024-11-09 00:50:31.578\u001b[0m | \u001b[1mINFO    \u001b[0m | \u001b[36mmable.observers\u001b[0m:\u001b[36mnotify\u001b[0m:\u001b[36m24\u001b[0m - \u001b[1mHMS Terror Fuel consumption<Idle>: 42.406 t, CO2: 134.004 t, Cost: 18234.76 $\u001b[0m\n",
      "\u001b[32m2024-11-09 00:50:31.579\u001b[0m | \u001b[1mINFO    \u001b[0m | \u001b[36mmable.observers\u001b[0m:\u001b[36mnotify\u001b[0m:\u001b[36m19\u001b[0m - \u001b[1mEvent(TimeWindowArrivalEvent): time 30984 [~1291 day(s) 0 hour(s)], duration: 0 [~0 day(s) 0 hour(s)], info: Port<Kota Agung-84a3447ce3f6 (-5.50348, 104.62302)> drop off (Vessel [name: HMS Terror], Trade [Oil, 76537.6656395492]: Port<Jakarta-9cac7206c0ef (-6.05964, 106.88703)>->Port<Kota Agung-84a3447ce3f6 (-5.50348, 104.62302)>).\u001b[0m\n",
      "\u001b[32m2024-11-09 00:50:31.580\u001b[0m | \u001b[1mINFO    \u001b[0m | \u001b[36mmable.observers\u001b[0m:\u001b[36mnotify\u001b[0m:\u001b[36m19\u001b[0m - \u001b[1mEvent(CargoTransferEvent): time 30999.308 [~1291 day(s) 15.3 hour(s)], duration: 15.308 [~0 day(s) 15.3 hour(s)], info: Port<Kota Agung-84a3447ce3f6 (-5.50348, 104.62302)> drop off (Vessel [name: HMS Terror], Trade [Oil, 76537.6656395492]: Port<Jakarta-9cac7206c0ef (-6.05964, 106.88703)>->Port<Kota Agung-84a3447ce3f6 (-5.50348, 104.62302)>).\u001b[0m\n",
      "\u001b[32m2024-11-09 00:50:31.581\u001b[0m | \u001b[1mINFO    \u001b[0m | \u001b[36mmable.observers\u001b[0m:\u001b[36mnotify\u001b[0m:\u001b[36m24\u001b[0m - \u001b[1mHMS Terror Fuel consumption<CargoTransfer>: 85.703 t, CO2: 270.822 t, Cost: 36852.31 $\u001b[0m\n",
      "\u001b[32m2024-11-09 00:50:31.582\u001b[0m | \u001b[1mINFO    \u001b[0m | \u001b[36mmable.observers\u001b[0m:\u001b[36mrun\u001b[0m:\u001b[36m132\u001b[0m - \u001b[1m--Run Finished---\u001b[0m\n"
     ]
    }
   ],
   "source": [
    "from mable.cargo_bidding import TradingCompany\n",
    "from mable.examples import environment, fleets\n",
    "class MyCompany(TradingCompany):\n",
    "    pass\n",
    "\n",
    "if __name__ == '__main__':\n",
    "    specifications_builder = environment.get_specification_builder(environment_files_path=\"..\")\n",
    "    fleet = fleets.example_fleet_1()\n",
    "    specifications_builder.add_company(MyCompany.Data(MyCompany, fleet,\"My Shipping Corp Ltd.\"))\n",
    "    sim = environment.generate_simulation(specifications_builder)\n",
    "    sim.run()"
   ]
  },
  {
   "cell_type": "code",
   "execution_count": 2,
   "metadata": {},
   "outputs": [
    {
     "name": "stdout",
     "output_type": "stream",
     "text": [
      "Overview for .\\metrics_competition_1745141884560.json.\n",
      "Company My Shipping Corp Ltd.\n",
      "+---------+------------+\n",
      "|   Name  |      Value |\n",
      "+---------+------------+\n",
      "|   Cost  | 524332.766 |\n",
      "| Penalty |          0 |\n",
      "| Revenue |        inf |\n",
      "+---------+------------+\n",
      "|  Income |        inf |\n",
      "+---------+------------+\n"
     ]
    }
   ],
   "source": [
    "! mable overview .\\metrics_competition_1745141884560.json"
   ]
  }
 ],
 "metadata": {
  "kernelspec": {
   "display_name": "mable",
   "language": "python",
   "name": "python3"
  },
  "language_info": {
   "codemirror_mode": {
    "name": "ipython",
    "version": 3
   },
   "file_extension": ".py",
   "mimetype": "text/x-python",
   "name": "python",
   "nbconvert_exporter": "python",
   "pygments_lexer": "ipython3",
   "version": "3.12.7"
  }
 },
 "nbformat": 4,
 "nbformat_minor": 2
}
