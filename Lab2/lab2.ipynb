{
 "cells": [
  {
   "cell_type": "markdown",
   "metadata": {},
   "source": [
    "# Lab 2"
   ]
  },
  {
   "cell_type": "code",
   "execution_count": 1,
   "metadata": {},
   "outputs": [
    {
     "name": "stdout",
     "output_type": "stream",
     "text": [
      "Shipping network attributes: \n",
      "latitude, longitude, name, to_json, x, y\n",
      "\n",
      "Transport opportunities attributes: \n",
      "amount, cargo_type, clean_window, destination_port, earliest_drop_off, earliest_drop_off_clean, earliest_pickup, earliest_pickup_clean, latest_drop_off, latest_drop_off_clean, latest_pickup, latest_pickup_clean, origin_port, probability, status, time, time_window, to_json\n",
      "\n",
      "Vessel attributes: \n",
      "Data, capacities_and_loading_rates, capacity, copy_hold, current_load, event_occurrence, get_ballast_consumption, get_co2_emissions, get_cost, get_idle_consumption, get_laden_consumption, get_loading_consumption, get_loading_time, get_travel_time, get_unloading_consumption, has_any_load, has_next_event, journey_log, load_cargo, loadable_cargo_types, location, log_journey_log_event, name, propelling_engine, schedule, set_engine, speed, start_next_event, to_json, unload_cargo\n",
      "\n",
      "Trading company attributes: \n",
      "Data, apply_schedules, fleet, get_arrival_time, get_class, headquarters, inform, name, pre_inform, propose_schedules, receive, set_engine\n",
      "\n",
      "Simple company attributes: \n",
      "Data, apply_schedules, fleet, get_arrival_time, get_class, inform, name, pre_inform, propose_schedules, receive, set_engine\n",
      "\n",
      "Bid attributes: \n",
      "amount, company, trade\n",
      "\n",
      "Schedule attributes: \n",
      "add_relocation, add_transportation, completion_time, copy, get, get_insertion_points, next, pop, set_engine, verify_schedule, verify_schedule_cargo, verify_schedule_time\n",
      "\n",
      "Schedule proposal attributes: \n",
      "No attributes found.\n"
     ]
    }
   ],
   "source": [
    "# notes\n",
    "# MAKE SURE INTELLISENSE FOR JUPYTER IS ENABLED IN VS CODE SETTINGS\n",
    "\n",
    "def print_attributes(obj):\n",
    "    # Fetch all attributes from the object, filtering out any that start with an underscore\n",
    "    non_unders = [attr for attr in dir(obj) if not attr.startswith('_')]\n",
    "    if len(non_unders) == 0:\n",
    "        print(\"No attributes found.\")\n",
    "    else:\n",
    "        print(', '.join(non_unders))\n",
    "    # Join all attributes into a single string separated by commas\n",
    "   \n",
    "# the world is represened by class LatLongPort\n",
    "from mable.extensions.world_ports import LatLongPort \n",
    "print(\"Shipping network attributes: \")\n",
    "print_attributes(LatLongPort)\n",
    "\n",
    "# trasnport oppurtunities, class TimeWindowTrade\n",
    "from mable.shipping_market import TimeWindowTrade \n",
    "print(\"\\nTransport opportunities attributes: \")\n",
    "print_attributes(TimeWindowTrade)\n",
    "\n",
    "# vessels are represented by class VesselWithEngine\n",
    "from mable.extensions.fuel_emissions import VesselWithEngine \n",
    "print(\"\\nVessel attributes: \")\n",
    "print_attributes(VesselWithEngine)\n",
    "\n",
    "# Trading company - contains inform, preinform and receive\n",
    "from mable.cargo_bidding import TradingCompany # type: ignore\n",
    "print(\"\\nTrading company attributes: \")\n",
    "print_attributes(TradingCompany)\n",
    "\n",
    "# Simple company - contains inform, preinform and receive\n",
    "from mable.transport_operation import SimpleCompany \n",
    "print(\"\\nSimple company attributes: \")\n",
    "print_attributes(SimpleCompany)\n",
    "\n",
    "# bidding class Bid\n",
    "from mable.transport_operation import Bid \n",
    "print(\"\\nBid attributes: \")\n",
    "print_attributes(Bid)\n",
    "\n",
    "#schedules\n",
    "from mable.transportation_scheduling import Schedule\n",
    "print(\"\\nSchedule attributes: \")\n",
    "print_attributes(Schedule)\n",
    "\n",
    "# schedule proposal class\n",
    "from mable.transport_operation import ScheduleProposal\n",
    "print(\"\\nSchedule proposal attributes: \")\n",
    "print_attributes(ScheduleProposal) # is completely empty, unsure why\n"
   ]
  },
  {
   "cell_type": "markdown",
   "metadata": {},
   "source": [
    "Exercise 2.5.1 - Trading Company class"
   ]
  },
  {
   "cell_type": "code",
   "execution_count": null,
   "metadata": {},
   "outputs": [
    {
     "name": "stderr",
     "output_type": "stream",
     "text": [
      "\u001b[32m2024-11-09 00:50:51.992\u001b[0m | \u001b[1mINFO    \u001b[0m | \u001b[36mmable.observers\u001b[0m:\u001b[36mrun\u001b[0m:\u001b[36m132\u001b[0m - \u001b[1m---Pre Run Start---\u001b[0m\n",
      "\u001b[32m2024-11-09 00:50:51.993\u001b[0m | \u001b[1mINFO    \u001b[0m | \u001b[36mmable.observers\u001b[0m:\u001b[36mnotify\u001b[0m:\u001b[36m19\u001b[0m - \u001b[1mEvent(VesselLocationInformationEvent): time -1 [-], duration: 0 [~0 day(s) 0 hour(s)], info: HMS Terror in Aberdeen-f8ea5ddd09c3.\u001b[0m\n",
      "\u001b[32m2024-11-09 00:50:51.994\u001b[0m | \u001b[1mINFO    \u001b[0m | \u001b[36mmable.observers\u001b[0m:\u001b[36mrun\u001b[0m:\u001b[36m132\u001b[0m - \u001b[1m--Run Start (Pre Run Finished)---\u001b[0m\n",
      "\u001b[32m2024-11-09 00:50:51.995\u001b[0m | \u001b[1mINFO    \u001b[0m | \u001b[36mmable.observers\u001b[0m:\u001b[36mnotify\u001b[0m:\u001b[36m19\u001b[0m - \u001b[1mEvent(CargoAnnouncementEvent): time 0.001[~0 day(s) 0.0 hour(s)], info: #Trades: 1. For time ~0 day(s) 0 hour(s).\u001b[0m\n",
      "\u001b[32m2024-11-09 00:50:51.996\u001b[0m | \u001b[1mINFO    \u001b[0m | \u001b[36mmable.observers\u001b[0m:\u001b[36mnotify\u001b[0m:\u001b[36m19\u001b[0m - \u001b[1mEvent(AuctionCargoEvent): time 0[~0 day(s) 0 hour(s)], info: Awarded 0/1 trades.\u001b[0m\n",
      "\u001b[32m2024-11-09 00:50:51.997\u001b[0m | \u001b[1mINFO    \u001b[0m | \u001b[36mmable.observers\u001b[0m:\u001b[36mnotify\u001b[0m:\u001b[36m19\u001b[0m - \u001b[1mEvent(CargoAnnouncementEvent): time 689.999[~28 day(s) 18.0 hour(s)], info: #Trades: 1. For time ~30 day(s) 0 hour(s).\u001b[0m\n",
      "\u001b[32m2024-11-09 00:50:51.997\u001b[0m | \u001b[1mINFO    \u001b[0m | \u001b[36mmable.observers\u001b[0m:\u001b[36mnotify\u001b[0m:\u001b[36m19\u001b[0m - \u001b[1mEvent(AuctionCargoEvent): time 720[~30 day(s) 0 hour(s)], info: Awarded 0/1 trades.\u001b[0m\n",
      "\u001b[32m2024-11-09 00:50:51.998\u001b[0m | \u001b[1mINFO    \u001b[0m | \u001b[36mmable.observers\u001b[0m:\u001b[36mnotify\u001b[0m:\u001b[36m19\u001b[0m - \u001b[1mEvent(CargoAnnouncementEvent): time 1409.999[~58 day(s) 18.0 hour(s)], info: #Trades: 1. For time ~60 day(s) 0 hour(s).\u001b[0m\n",
      "\u001b[32m2024-11-09 00:50:51.998\u001b[0m | \u001b[1mINFO    \u001b[0m | \u001b[36mmable.observers\u001b[0m:\u001b[36mnotify\u001b[0m:\u001b[36m19\u001b[0m - \u001b[1mEvent(AuctionCargoEvent): time 1440[~60 day(s) 0 hour(s)], info: Awarded 0/1 trades.\u001b[0m\n",
      "\u001b[32m2024-11-09 00:50:51.999\u001b[0m | \u001b[1mINFO    \u001b[0m | \u001b[36mmable.observers\u001b[0m:\u001b[36mrun\u001b[0m:\u001b[36m132\u001b[0m - \u001b[1m--Run Finished---\u001b[0m\n"
     ]
    }
   ],
   "source": [
    "from mable.cargo_bidding import TradingCompany\n",
    "from mable.examples import environment, fleets\n",
    "from mable.transport_operation import ScheduleProposal\n",
    "\n",
    "class MyCompany(TradingCompany):\n",
    "    \n",
    "    def propose_schedules(self, trades):\n",
    "        schedules = {}\n",
    "        costs = {}\n",
    "        scheduled_trades = []\n",
    "        # Your Code\n",
    "        \n",
    "        return ScheduleProposal(schedules, scheduled_trades, costs)    \n",
    "    \n",
    "\n",
    "    \n",
    "if __name__ == '__main__':\n",
    "    specifications_builder = environment.get_specification_builder(environment_files_path=\"..\")\n",
    "    fleet = fleets.example_fleet_1()\n",
    "    specifications_builder.add_company(MyCompany.Data(MyCompany, fleet, \"My Shipping Corp Ltd.\"))\n",
    "    sim = environment.generate_simulation(specifications_builder)\n",
    "    sim.run()"
   ]
  },
  {
   "cell_type": "markdown",
   "metadata": {},
   "source": [
    "Exercise 2.5.2 - Improved scheduling"
   ]
  }
 ],
 "metadata": {
  "kernelspec": {
   "display_name": "mable",
   "language": "python",
   "name": "python3"
  },
  "language_info": {
   "codemirror_mode": {
    "name": "ipython",
    "version": 3
   },
   "file_extension": ".py",
   "mimetype": "text/x-python",
   "name": "python",
   "nbconvert_exporter": "python",
   "pygments_lexer": "ipython3",
   "version": "3.12.7"
  }
 },
 "nbformat": 4,
 "nbformat_minor": 2
}
