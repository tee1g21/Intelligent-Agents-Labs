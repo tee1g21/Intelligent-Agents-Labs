{
 "cells": [
  {
   "cell_type": "markdown",
   "metadata": {},
   "source": [
    "# Lab 2"
   ]
  },
  {
   "cell_type": "code",
   "execution_count": null,
   "metadata": {},
   "outputs": [],
   "source": [
    "# notes\n",
    "# MAKE SURE INTELLISENSE FOR JUPYTER IS ENABLED IN VS CODE SETTINGS\n",
    "\n",
    "def print_attributes(obj):\n",
    "    # Fetch all attributes from the object, filtering out any that start with an underscore\n",
    "    non_unders = [attr for attr in dir(obj) if not attr.startswith('_')]\n",
    "    if len(non_unders) == 0:\n",
    "        print(\"No attributes found.\")\n",
    "    else:\n",
    "        print(', '.join(non_unders))\n",
    "    # Join all attributes into a single string separated by commas\n",
    "   \n",
    "# the world is represened by class LatLongPort\n",
    "from mable.extensions.world_ports import LatLongPort \n",
    "print(\"Shipping network attributes: \")\n",
    "print_attributes(LatLongPort)\n",
    "\n",
    "# trasnport oppurtunities, class TimeWindowTrade\n",
    "from mable.shipping_market import TimeWindowTrade \n",
    "print(\"\\nTransport opportunities attributes: \")\n",
    "print_attributes(TimeWindowTrade)\n",
    "\n",
    "# vessels are represented by class VesselWithEngine\n",
    "from mable.extensions.fuel_emissions import VesselWithEngine \n",
    "print(\"\\nVessel attributes: \")\n",
    "print_attributes(VesselWithEngine)\n",
    "\n",
    "# Trading company - contains inform, preinform and receive\n",
    "from mable.cargo_bidding import TradingCompany # type: ignore\n",
    "print(\"\\nTrading company attributes: \")\n",
    "print_attributes(TradingCompany)\n",
    "\n",
    "# Simple company - contains inform, preinform and receive\n",
    "from mable.transport_operation import SimpleCompany \n",
    "print(\"\\nSimple company attributes: \")\n",
    "print_attributes(SimpleCompany)\n",
    "\n",
    "# bidding class Bid\n",
    "from mable.transport_operation import Bid \n",
    "print(\"\\nBid attributes: \")\n",
    "print_attributes(Bid)\n",
    "\n",
    "#schedules\n",
    "from mable.transportation_scheduling import Schedule\n",
    "print(\"\\nSchedule attributes: \")\n",
    "print_attributes(Schedule)\n",
    "\n",
    "# schedule proposal class\n",
    "from mable.transport_operation import ScheduleProposal\n",
    "print(\"\\nSchedule proposal attributes: \")\n",
    "print_attributes(ScheduleProposal) # is completely empty, unsure why\n",
    "\n",
    "\n"
   ]
  },
  {
   "cell_type": "markdown",
   "metadata": {},
   "source": [
    "Exercise 2.5.1 - Trading Company class"
   ]
  },
  {
   "cell_type": "code",
   "execution_count": null,
   "metadata": {},
   "outputs": [],
   "source": [
    "from mable.cargo_bidding import TradingCompany\n",
    "from mable.examples import environment, fleets\n",
    "from mable.transport_operation import ScheduleProposal\n",
    "\n",
    "class MyCompany(TradingCompany):\n",
    "    def propose_schedules(self, trades):\n",
    "        schedules = {}\n",
    "        scheduled_trades = []\n",
    "        i = 0\n",
    "        while i < len(trades):\n",
    "            current_trade = trades[i]\n",
    "            is_assigned = False\n",
    "            j = 0\n",
    "            while j < len(self._fleet) and not is_assigned:\n",
    "                current_vessel = self._fleet[j]\n",
    "                current_vessel_schedule = schedules.get(current_vessel, current_vessel.schedule)\n",
    "                new_schedule = current_vessel_schedule.copy()\n",
    "                new_schedule.add_transportation(current_trade)\n",
    "                if new_schedule.verify_schedule():\n",
    "                    schedules[current_vessel] = new_schedule\n",
    "                    scheduled_trades.append(current_trade)\n",
    "                    is_assigned = True\n",
    "                    j += 1\n",
    "                    i += 1\n",
    "        return ScheduleProposal(schedules, scheduled_trades, {})\n",
    "        \n",
    "    \n",
    "\n",
    "    \n",
    "if __name__ == '__main__':\n",
    "    specifications_builder = environment.get_specification_builder(environment_files_path=\".\")\n",
    "    fleet = fleets.example_fleet_1()\n",
    "    specifications_builder.add_company(MyCompany.Data(MyCompany, fleet, \"My Shipping Corp Ltd.\"))\n",
    "    sim = environment.generate_simulation(specifications_builder)\n",
    "    sim.run()"
   ]
  },
  {
   "cell_type": "markdown",
   "metadata": {},
   "source": [
    "Exercise 2.5.2 - Improved scheduling"
   ]
  },
  {
   "cell_type": "code",
   "execution_count": null,
   "metadata": {},
   "outputs": [],
   "source": [
    "class MyCompany(TradingCompany):\n",
    "    def propose_schedules(self, trades):\n",
    "        schedules = {}\n",
    "        scheduled_trades = []\n",
    "        i = 0\n",
    "        while i < len(trades):\n",
    "            current_trade = trades[i]\n",
    "            is_assigned = False\n",
    "            j = 0\n",
    "            while j < len(self._fleet) and not is_assigned:\n",
    "                current_vessel = self._fleet[j]\n",
    "                current_vessel_schedule = schedules.get(current_vessel, current_vessel.schedule)\n",
    "                new_schedule = current_vessel_schedule.copy()\n",
    "                insertion_points = new_schedule.get_insertion_points()\n",
    "                shortest_schedule = None\n",
    "                for k in range(len(insertion_points)):\n",
    "                    idx_pick_up = insertion_points[k]\n",
    "                    insertion_point_after_idx_k = insertion_points[k:]\n",
    "                    for m in range(len(insertion_point_after_idx_k)):\n",
    "                        idx_drop_off = insertion_point_after_idx_k[m]\n",
    "                        new_schedule_test = new_schedule.copy()\n",
    "                        new_schedule_test.add_transportation(current_trade, idx_pick_up, idx_drop_off)\n",
    "                        if (shortest_schedule is None\n",
    "                        or new_schedule_test.completion_time() < shortest_schedule.completion_time()):\n",
    "                            if new_schedule_test.verify_schedule():\n",
    "                                shortest_schedule = new_schedule_test\n",
    "                if shortest_schedule is not None:\n",
    "                    schedules[current_vessel] = shortest_schedule\n",
    "                    scheduled_trades.append(current_trade)\n",
    "                    is_assigned = True"
   ]
  }
 ],
 "metadata": {
  "kernelspec": {
   "display_name": "mable",
   "language": "python",
   "name": "python3"
  },
  "language_info": {
   "codemirror_mode": {
    "name": "ipython",
    "version": 3
   },
   "file_extension": ".py",
   "mimetype": "text/x-python",
   "name": "python",
   "nbconvert_exporter": "python",
   "pygments_lexer": "ipython3",
   "version": "3.12.7"
  }
 },
 "nbformat": 4,
 "nbformat_minor": 2
}
