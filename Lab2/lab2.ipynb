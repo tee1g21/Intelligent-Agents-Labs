{
 "cells": [
  {
   "cell_type": "markdown",
   "metadata": {},
   "source": [
    "# Lab 2"
   ]
  },
  {
   "cell_type": "code",
   "execution_count": 5,
   "metadata": {},
   "outputs": [
    {
     "name": "stdout",
     "output_type": "stream",
     "text": [
      "Shipping network attributes: \n",
      "latitude, longitude, to_json\n",
      "\n",
      "Transport opportunities attributes: \n",
      "amount, cargo_type, clean_window, destination_port, earliest_drop_off, earliest_drop_off_clean, earliest_pickup, earliest_pickup_clean, latest_drop_off, latest_drop_off_clean, latest_pickup, latest_pickup_clean, origin_port, probability, status, time, time_window, to_json\n",
      "\n",
      "Vessel attributes: \n",
      "Data, capacities_and_loading_rates, capacity, copy_hold, current_load, event_occurrence, get_ballast_consumption, get_co2_emissions, get_cost, get_idle_consumption, get_laden_consumption, get_loading_consumption, get_loading_time, get_travel_time, get_unloading_consumption, has_any_load, has_next_event, journey_log, load_cargo, loadable_cargo_types, location, log_journey_log_event, name, schedule, set_engine, start_next_event, to_json, unload_cargo\n",
      "\n",
      "Trading company attributes: \n",
      "Data, apply_schedules, fleet, get_arrival_time, get_class, inform, name, pre_inform, propose_schedules, receive, set_engine\n",
      "\n",
      "Simple company attributes: \n",
      "Data, apply_schedules, fleet, get_arrival_time, get_class, inform, name, pre_inform, propose_schedules, receive, set_engine\n",
      "\n",
      "Bid attributes: \n",
      "amount, company, trade\n",
      "\n",
      "Schedule attributes: \n",
      "add_relocation, add_transportation, copy, get, get_insertion_points, next, pop, set_engine, verify_schedule, verify_schedule_cargo, verify_schedule_time\n",
      "\n",
      "Schedule proposal attributes: \n",
      "No attributes found.\n"
     ]
    }
   ],
   "source": [
    "# notes\n",
    "# MAKE SURE INTELLISENSE FOR JUPYTER IS ENABLED IN VS CODE SETTINGS\n",
    "\n",
    "def print_attributes(obj):\n",
    "    # Fetch all attributes from the object, filtering out any that start with an underscore\n",
    "    non_unders = [attr for attr in dir(obj) if not attr.startswith('_')]\n",
    "    if len(non_unders) == 0:\n",
    "        print(\"No attributes found.\")\n",
    "    else:\n",
    "        print(', '.join(non_unders))\n",
    "    # Join all attributes into a single string separated by commas\n",
    "   \n",
    "# the world is represened by class LatLongPort\n",
    "from mable.extensions.world_ports import LatLongPort \n",
    "print(\"Shipping network attributes: \")\n",
    "print_attributes(LatLongPort)\n",
    "\n",
    "# trasnport oppurtunities, class TimeWindowTrade\n",
    "from mable.shipping_market import TimeWindowTrade \n",
    "print(\"\\nTransport opportunities attributes: \")\n",
    "print_attributes(TimeWindowTrade)\n",
    "\n",
    "# vessels are represented by class VesselWithEngine\n",
    "from mable.extensions.fuel_emissions import VesselWithEngine \n",
    "print(\"\\nVessel attributes: \")\n",
    "print_attributes(VesselWithEngine)\n",
    "\n",
    "# Trading company - contains inform, preinform and receive\n",
    "from mable.cargo_bidding import TradingCompany # type: ignore\n",
    "print(\"\\nTrading company attributes: \")\n",
    "print_attributes(TradingCompany)\n",
    "\n",
    "# Simple company - contains inform, preinform and receive\n",
    "from mable.transport_operation import SimpleCompany \n",
    "print(\"\\nSimple company attributes: \")\n",
    "print_attributes(SimpleCompany)\n",
    "\n",
    "# bidding class Bid\n",
    "from mable.transport_operation import Bid \n",
    "print(\"\\nBid attributes: \")\n",
    "print_attributes(Bid)\n",
    "\n",
    "#schedules\n",
    "from mable.transportation_scheduling import Schedule\n",
    "print(\"\\nSchedule attributes: \")\n",
    "print_attributes(Schedule)\n",
    "\n",
    "# schedule proposal class\n",
    "from mable.transport_operation import ScheduleProposal\n",
    "print(\"\\nSchedule proposal attributes: \")\n",
    "print_attributes(ScheduleProposal) # is completely empty, unsure why\n"
   ]
  },
  {
   "cell_type": "markdown",
   "metadata": {},
   "source": [
    "Exercise 2.5.1 - Trading Company class"
   ]
  },
  {
   "cell_type": "code",
   "execution_count": 9,
   "metadata": {},
   "outputs": [
    {
     "name": "stderr",
     "output_type": "stream",
     "text": [
      "\u001b[32m2024-11-08 15:51:30.104\u001b[0m | \u001b[1mINFO    \u001b[0m | \u001b[36mmable.observers\u001b[0m:\u001b[36mrun\u001b[0m:\u001b[36m108\u001b[0m - \u001b[1m---Pre Run Start---\u001b[0m\n",
      "\u001b[32m2024-11-08 15:51:30.107\u001b[0m | \u001b[1mINFO    \u001b[0m | \u001b[36mmable.observers\u001b[0m:\u001b[36mnotify\u001b[0m:\u001b[36m19\u001b[0m - \u001b[1mEvent(VesselLocationInformationEvent): time -1 [-], duration: 0 [~0 day(s) 0 hour(s)], info: HMS Terror in Aberdeen-f8ea5ddd09c3.\u001b[0m\n",
      "\u001b[32m2024-11-08 15:51:30.108\u001b[0m | \u001b[1mINFO    \u001b[0m | \u001b[36mmable.observers\u001b[0m:\u001b[36mrun\u001b[0m:\u001b[36m108\u001b[0m - \u001b[1m--Run Start (Pre Run Finished)---\u001b[0m\n"
     ]
    },
    {
     "ename": "TypeError",
     "evalue": "ScheduleProposal.__init__() takes 3 positional arguments but 4 were given",
     "output_type": "error",
     "traceback": [
      "\u001b[1;31m---------------------------------------------------------------------------\u001b[0m",
      "\u001b[1;31mTypeError\u001b[0m                                 Traceback (most recent call last)",
      "Cell \u001b[1;32mIn[9], line 19\u001b[0m\n\u001b[0;32m     17\u001b[0m specifications_builder\u001b[38;5;241m.\u001b[39madd_company(MyCompany\u001b[38;5;241m.\u001b[39mData(MyCompany, fleet, \u001b[38;5;124m\"\u001b[39m\u001b[38;5;124mMy Shipping Corp Ltd.\u001b[39m\u001b[38;5;124m\"\u001b[39m))\n\u001b[0;32m     18\u001b[0m sim \u001b[38;5;241m=\u001b[39m environment\u001b[38;5;241m.\u001b[39mgenerate_simulation(specifications_builder)\n\u001b[1;32m---> 19\u001b[0m \u001b[43msim\u001b[49m\u001b[38;5;241;43m.\u001b[39;49m\u001b[43mrun\u001b[49m\u001b[43m(\u001b[49m\u001b[43m)\u001b[49m\n",
      "File \u001b[1;32mc:\\Users\\Tom\\anaconda3\\envs\\mable\\Lib\\site-packages\\mable\\engine.py:126\u001b[0m, in \u001b[0;36mSimulationEngine.run\u001b[1;34m(self)\u001b[0m\n\u001b[0;32m    124\u001b[0m \u001b[38;5;28mself\u001b[39m\u001b[38;5;241m.\u001b[39m_pre_run()\n\u001b[0;32m    125\u001b[0m \u001b[38;5;28;01mwhile\u001b[39;00m \u001b[38;5;28mself\u001b[39m\u001b[38;5;241m.\u001b[39m_world\u001b[38;5;241m.\u001b[39mdo_events_exists():\n\u001b[1;32m--> 126\u001b[0m     next_event, data \u001b[38;5;241m=\u001b[39m \u001b[38;5;28;43mself\u001b[39;49m\u001b[38;5;241;43m.\u001b[39;49m\u001b[43m_process_next_event\u001b[49m\u001b[43m(\u001b[49m\u001b[43m)\u001b[49m\n\u001b[0;32m    127\u001b[0m     \u001b[38;5;28mself\u001b[39m\u001b[38;5;241m.\u001b[39mnotify_event_observer(next_event, data)\n\u001b[0;32m    128\u001b[0m \u001b[38;5;28mself\u001b[39m\u001b[38;5;241m.\u001b[39m_post_run()\n",
      "File \u001b[1;32mc:\\Users\\Tom\\anaconda3\\envs\\mable\\Lib\\site-packages\\mable\\engine.py:114\u001b[0m, in \u001b[0;36mSimulationEngine._process_next_event\u001b[1;34m(self)\u001b[0m\n\u001b[0;32m    112\u001b[0m     next_event \u001b[38;5;241m=\u001b[39m \u001b[38;5;28mself\u001b[39m\u001b[38;5;241m.\u001b[39m_world\u001b[38;5;241m.\u001b[39mget_next_event()\n\u001b[0;32m    113\u001b[0m     data \u001b[38;5;241m=\u001b[39m EventExecutionData()\n\u001b[1;32m--> 114\u001b[0m     event_action_result \u001b[38;5;241m=\u001b[39m \u001b[43mnext_event\u001b[49m\u001b[38;5;241;43m.\u001b[39;49m\u001b[43mevent_action\u001b[49m\u001b[43m(\u001b[49m\u001b[38;5;28;43mself\u001b[39;49m\u001b[43m)\u001b[49m\n\u001b[0;32m    115\u001b[0m     data\u001b[38;5;241m.\u001b[39maction_data \u001b[38;5;241m=\u001b[39m event_action_result\n\u001b[0;32m    116\u001b[0m \u001b[38;5;28;01mreturn\u001b[39;00m next_event, data\n",
      "File \u001b[1;32mc:\\Users\\Tom\\anaconda3\\envs\\mable\\Lib\\site-packages\\mable\\event_management.py:120\u001b[0m, in \u001b[0;36mCargoAnnouncementEvent.event_action\u001b[1;34m(self, engine)\u001b[0m\n\u001b[0;32m    112\u001b[0m \u001b[38;5;250m\u001b[39m\u001b[38;5;124;03m\"\"\"\u001b[39;00m\n\u001b[0;32m    113\u001b[0m \u001b[38;5;124;03mAnnounces the cargoes becoming available at a later time.\u001b[39;00m\n\u001b[0;32m    114\u001b[0m \n\u001b[1;32m   (...)\u001b[0m\n\u001b[0;32m    117\u001b[0m \u001b[38;5;124;03m:type engine: SimulationEngine\u001b[39;00m\n\u001b[0;32m    118\u001b[0m \u001b[38;5;124;03m\"\"\"\u001b[39;00m\n\u001b[0;32m    119\u001b[0m all_trades \u001b[38;5;241m=\u001b[39m engine\u001b[38;5;241m.\u001b[39mshipping\u001b[38;5;241m.\u001b[39mget_trades(\u001b[38;5;28mself\u001b[39m\u001b[38;5;241m.\u001b[39m_cargo_available_time)\n\u001b[1;32m--> 120\u001b[0m \u001b[43mengine\u001b[49m\u001b[38;5;241;43m.\u001b[39;49m\u001b[43mmarket\u001b[49m\u001b[38;5;241;43m.\u001b[39;49m\u001b[43minform_future_trades\u001b[49m\u001b[43m(\u001b[49m\u001b[43mall_trades\u001b[49m\u001b[43m,\u001b[49m\u001b[43m \u001b[49m\u001b[43mengine\u001b[49m\u001b[38;5;241;43m.\u001b[39;49m\u001b[43mshipping_companies\u001b[49m\u001b[43m)\u001b[49m\n\u001b[0;32m    121\u001b[0m \u001b[38;5;28mself\u001b[39m\u001b[38;5;241m.\u001b[39minfo \u001b[38;5;241m=\u001b[39m \u001b[38;5;124mf\u001b[39m\u001b[38;5;124m\"\u001b[39m\u001b[38;5;124m#Trades: \u001b[39m\u001b[38;5;132;01m{\u001b[39;00m\u001b[38;5;28mlen\u001b[39m(all_trades)\u001b[38;5;132;01m}\u001b[39;00m\u001b[38;5;124m. For time \u001b[39m\u001b[38;5;132;01m{\u001b[39;00m\u001b[38;5;28mself\u001b[39m\u001b[38;5;241m.\u001b[39mformat_time(\u001b[38;5;28mself\u001b[39m\u001b[38;5;241m.\u001b[39m_cargo_available_time)\u001b[38;5;132;01m}\u001b[39;00m\u001b[38;5;124m\"\u001b[39m\n\u001b[0;32m    122\u001b[0m engine\u001b[38;5;241m.\u001b[39mworld\u001b[38;5;241m.\u001b[39mevent_queue\u001b[38;5;241m.\u001b[39mput(engine\u001b[38;5;241m.\u001b[39mclass_factory\u001b[38;5;241m.\u001b[39mgenerate_event_cargo(\u001b[38;5;28mself\u001b[39m\u001b[38;5;241m.\u001b[39m_cargo_available_time))\n",
      "File \u001b[1;32mc:\\Users\\Tom\\anaconda3\\envs\\mable\\Lib\\site-packages\\mable\\shipping_market.py:327\u001b[0m, in \u001b[0;36mAuctionMarket.inform_future_trades\u001b[1;34m(trades, shipping_companies)\u001b[0m\n\u001b[0;32m    316\u001b[0m \u001b[38;5;250m\u001b[39m\u001b[38;5;124;03m\"\"\"\u001b[39;00m\n\u001b[0;32m    317\u001b[0m \u001b[38;5;124;03mInforms the shipping companies of upcoming trades.\u001b[39;00m\n\u001b[0;32m    318\u001b[0m \u001b[38;5;124;03m:param trades:\u001b[39;00m\n\u001b[1;32m   (...)\u001b[0m\n\u001b[0;32m    323\u001b[0m \u001b[38;5;124;03m:type shipping_companies: list[ShippingCompany]\u001b[39;00m\n\u001b[0;32m    324\u001b[0m \u001b[38;5;124;03m\"\"\"\u001b[39;00m\n\u001b[0;32m    325\u001b[0m \u001b[38;5;28;01mfor\u001b[39;00m current_company \u001b[38;5;129;01min\u001b[39;00m shipping_companies:\n\u001b[0;32m    326\u001b[0m     \u001b[38;5;66;03m# TODO timeout\u001b[39;00m\n\u001b[1;32m--> 327\u001b[0m     \u001b[43mcurrent_company\u001b[49m\u001b[38;5;241;43m.\u001b[39;49m\u001b[43minform\u001b[49m\u001b[43m(\u001b[49m\u001b[43mtrades\u001b[49m\u001b[43m,\u001b[49m\u001b[43m \u001b[49m\u001b[43mannouncement\u001b[49m\u001b[38;5;241;43m=\u001b[39;49m\u001b[38;5;28;43;01mTrue\u001b[39;49;00m\u001b[43m)\u001b[49m\n",
      "File \u001b[1;32mc:\\Users\\Tom\\anaconda3\\envs\\mable\\Lib\\site-packages\\mable\\cargo_bidding.py:27\u001b[0m, in \u001b[0;36mTradingCompany.inform\u001b[1;34m(self, trades, *args, **kwargs)\u001b[0m\n\u001b[0;32m     17\u001b[0m \u001b[38;5;28;01mdef\u001b[39;00m \u001b[38;5;21minform\u001b[39m(\u001b[38;5;28mself\u001b[39m, trades, \u001b[38;5;241m*\u001b[39margs, \u001b[38;5;241m*\u001b[39m\u001b[38;5;241m*\u001b[39mkwargs):\n\u001b[0;32m     18\u001b[0m \u001b[38;5;250m    \u001b[39m\u001b[38;5;124;03m\"\"\"\u001b[39;00m\n\u001b[0;32m     19\u001b[0m \u001b[38;5;124;03m    The shipping company that bids in cargo auctions.\u001b[39;00m\n\u001b[0;32m     20\u001b[0m \u001b[38;5;124;03m    :param trades: The list of trades.\u001b[39;00m\n\u001b[1;32m   (...)\u001b[0m\n\u001b[0;32m     25\u001b[0m \u001b[38;5;124;03m    :rtype: list[Bid]\u001b[39;00m\n\u001b[0;32m     26\u001b[0m \u001b[38;5;124;03m    \"\"\"\u001b[39;00m\n\u001b[1;32m---> 27\u001b[0m     proposed_scheduling \u001b[38;5;241m=\u001b[39m \u001b[38;5;28;43mself\u001b[39;49m\u001b[38;5;241;43m.\u001b[39;49m\u001b[43mpropose_schedules\u001b[49m\u001b[43m(\u001b[49m\u001b[43mtrades\u001b[49m\u001b[43m)\u001b[49m\n\u001b[0;32m     28\u001b[0m     scheduled_trades \u001b[38;5;241m=\u001b[39m proposed_scheduling\u001b[38;5;241m.\u001b[39mscheduled_trades\n\u001b[0;32m     29\u001b[0m     \u001b[38;5;28mself\u001b[39m\u001b[38;5;241m.\u001b[39m_current_scheduling_proposal \u001b[38;5;241m=\u001b[39m proposed_scheduling\n",
      "Cell \u001b[1;32mIn[9], line 12\u001b[0m, in \u001b[0;36mMyCompany.propose_schedules\u001b[1;34m(self, trades)\u001b[0m\n\u001b[0;32m     10\u001b[0m scheduled_trades \u001b[38;5;241m=\u001b[39m []\n\u001b[0;32m     11\u001b[0m \u001b[38;5;66;03m# Your Code\u001b[39;00m\n\u001b[1;32m---> 12\u001b[0m \u001b[38;5;28;01mreturn\u001b[39;00m \u001b[43mScheduleProposal\u001b[49m\u001b[43m(\u001b[49m\u001b[43mschedules\u001b[49m\u001b[43m,\u001b[49m\u001b[43m \u001b[49m\u001b[43mscheduled_trades\u001b[49m\u001b[43m,\u001b[49m\u001b[43m \u001b[49m\u001b[43mcosts\u001b[49m\u001b[43m)\u001b[49m\n",
      "\u001b[1;31mTypeError\u001b[0m: ScheduleProposal.__init__() takes 3 positional arguments but 4 were given"
     ]
    }
   ],
   "source": [
    "from mable.cargo_bidding import TradingCompany\n",
    "from mable.examples import environment, fleets\n",
    "from mable.transport_operation import ScheduleProposal\n",
    "\n",
    "class MyCompany(TradingCompany):\n",
    "    \n",
    "    def propose_schedules(self, trades):\n",
    "        schedules = {}\n",
    "        costs = {}\n",
    "        scheduled_trades = []\n",
    "        # Your Code\n",
    "        return ScheduleProposal(schedules, scheduled_trades, costs)    \n",
    "    \n",
    "if __name__ == '__main__':\n",
    "    specifications_builder = environment.get_specification_builder(environment_files_path=\"..\")\n",
    "    fleet = fleets.example_fleet_1()\n",
    "    specifications_builder.add_company(MyCompany.Data(MyCompany, fleet, \"My Shipping Corp Ltd.\"))\n",
    "    sim = environment.generate_simulation(specifications_builder)\n",
    "    sim.run()"
   ]
  },
  {
   "cell_type": "markdown",
   "metadata": {},
   "source": [
    "Exercise 2.5.2 - Improved scheduling"
   ]
  }
 ],
 "metadata": {
  "kernelspec": {
   "display_name": "mable",
   "language": "python",
   "name": "python3"
  },
  "language_info": {
   "codemirror_mode": {
    "name": "ipython",
    "version": 3
   },
   "file_extension": ".py",
   "mimetype": "text/x-python",
   "name": "python",
   "nbconvert_exporter": "python",
   "pygments_lexer": "ipython3",
   "version": "3.12.7"
  }
 },
 "nbformat": 4,
 "nbformat_minor": 2
}
