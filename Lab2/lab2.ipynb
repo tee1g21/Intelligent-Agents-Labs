{
 "cells": [
  {
   "cell_type": "markdown",
   "metadata": {},
   "source": [
    "# Lab 2"
   ]
  },
  {
   "cell_type": "code",
   "execution_count": 10,
   "metadata": {},
   "outputs": [],
   "source": [
    "from mable.cargo_bidding import TradingCompany\n",
    "from mable.transport_operation import Schedule, ScheduleProposal, Bid\n",
    "\n",
    "class MyCompany(TradingCompany):\n",
    "    \n",
    "    def pre_inform(self, trades, time):\n",
    "        pass\n",
    "\n",
    "    def inform(self, trades, *args, **kwargs):\n",
    "        bids = []\n",
    "        for trade in trades:\n",
    "            for vessel in self.fleet:\n",
    "                cost = self.estimate_cost(vessel, trade)\n",
    "                bid_amount = cost * 1.1  # Add margin\n",
    "                bid = Bid(trade, bid_amount)\n",
    "                bids.append(bid)\n",
    "                break\n",
    "\n",
    "        return bids\n",
    "\n",
    "    def receive(self, contracts, auction_ledger, *args, **kwargs):\n",
    "        pass\n",
    "\n",
    "    def propose_schedules(self, trades):\n",
    "        return self.create_schedules_for_trades(trades)\n",
    "\n",
    "    def create_schedules_for_trades(self, trades):\n",
    "        schedules = []\n",
    "        costs = []\n",
    "\n",
    "        for trade in trades:\n",
    "            for vessel in self.fleet:\n",
    "                schedule = Schedule(vessel)\n",
    "                schedule.add_transportation(trade)\n",
    "\n",
    "                if schedule.verify_schedule():\n",
    "                    cost = self.estimate_cost(vessel, trade)\n",
    "                    schedules.append(schedule)\n",
    "                    costs.append(cost)\n",
    "                    break\n",
    "\n",
    "        return ScheduleProposal(trades, schedules, costs)\n",
    "\n",
    "    def estimate_cost(self, vessel, trade):\n",
    "        # Use `self.headquarters.get_network_distance` for distance calculation\n",
    "        distance = self.headquarters.get_network_distance(trade.origin_port, trade.destination_port)\n",
    "\n",
    "        loading_cost = vessel.get_loading_consumption() * vessel.fuel_price\n",
    "        travel_cost = vessel.get_laden_consumption(distance) * vessel.fuel_price\n",
    "        unloading_cost = vessel.get_unloading_consumption() * vessel.fuel_price\n",
    "\n",
    "        total_cost = loading_cost + travel_cost + unloading_cost\n",
    "        return total_cost\n"
   ]
  },
  {
   "cell_type": "code",
   "execution_count": null,
   "metadata": {},
   "outputs": [],
   "source": [
    "# Assuming the simulation environment is set up\n",
    "my_company = MyCompany()\n",
    "\n",
    "# Example market interactions\n",
    "trades = market.get_upcoming_trades()\n",
    "time = market.get_time()\n",
    "\n",
    "# Receive advance information about future trades\n",
    "my_company.pre_inform(trades, time)\n",
    "\n",
    "# Participate in current auction with scheduling and bidding\n",
    "bids = my_company.inform(trades)\n",
    "market.submit_bids(bids)\n",
    "\n",
    "# Process auction results\n",
    "contracts_won, auction_ledger = market.get_results()\n",
    "my_company.receive(contracts_won, auction_ledger)\n"
   ]
  }
 ],
 "metadata": {
  "kernelspec": {
   "display_name": "mable",
   "language": "python",
   "name": "python3"
  },
  "language_info": {
   "codemirror_mode": {
    "name": "ipython",
    "version": 3
   },
   "file_extension": ".py",
   "mimetype": "text/x-python",
   "name": "python",
   "nbconvert_exporter": "python",
   "pygments_lexer": "ipython3",
   "version": "3.12.7"
  }
 },
 "nbformat": 4,
 "nbformat_minor": 2
}
